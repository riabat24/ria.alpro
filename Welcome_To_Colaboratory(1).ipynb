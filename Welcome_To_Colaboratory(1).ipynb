{
  "cells": [
    {
      "cell_type": "code",
      "execution_count": null,
      "metadata": {
        "id": "zwFnJsE6vjf8"
      },
      "outputs": [],
      "source": [
        "print(\"Menghitung Berat Badan\")\n",
        "\n",
        "#input\n",
        "bmi = float(input(\"Masukan Body Mass Index(kg/m)\"))\n",
        "tinggi = float(input(\"Masukan Tinggi Badan(m): \"))\n",
        "\n",
        "#proses\n",
        "berat = bmi*(tinggi**2)\n",
        "30\n",
        "\n",
        "#output\n",
        "print(\"Berat Badan Anda:\", berat, \"kg\")"
      ]
    },
    {
      "cell_type": "code",
      "source": [
        "print(\"Menghitung fungsi (fx)\")\n",
        "\n",
        "#input\n",
        "x = int(input(\"Masukan Nilai X :\"))\n",
        "\n",
        "#proses\n",
        "hasil = float(2*x**3)+(2*x)+(15/x)\n",
        "\n",
        "#output\n",
        "print(\"fungsi f(x):\", hasil)"
      ],
      "metadata": {
        "id": "49JS1HNlJuKj"
      },
      "execution_count": null,
      "outputs": []
    },
    {
      "cell_type": "code",
      "source": [
        "#input\n",
        "gaji_perjam = int(input(\"Masukkan Gaji Yang Anda Inginkan: \"))\n",
        "jumlah_jam_kerja = int(input(\"Masukkan Jumlah Jam Kerja Dalam Satu Minggu: \"))\n",
        "#proses\n",
        "pendapatan_budi_sebelum_pajak = gaji_perjam * jumlah_jam_kerja*5\n",
        "gaji_budi_setelah_pajak = pendapatan_budi_sebelum_pajak - (0.14 *\n",
        "pendapatan_budi_sebelum_pajak)\n",
        "bayar_baju = 0.1 * gaji_budi_setelah_pajak\n",
        "bayar_pensil = 0.01 * gaji_budi_setelah_pajak\n",
        "sisa_gaji = gaji_budi_setelah_pajak - (bayar_pensil + bayar_baju)\n",
        "sedekah = 0.25 * sisa_gaji\n",
        "sedekah = sedekah/1000\n",
        "sedekah_kedua = int(sedekah)\n",
        "sedekah_ketiga = sedekah_kedua*1000\n",
        "sedekah_untuk_yatim = 0.3 * sedekah_ketiga\n",
        "sedekah_untuk_dhuafa = 0.7 * sedekah_ketiga\n",
        "#output\n",
        "print(\"1. Pendapatan Budi selama libur musim panas sebelum melakukan pembayaran pajak: \",\n",
        "pendapatan_budi_sebelum_pajak)\n",
        "print(\"2. Pendapatan Budi selama libur musim panas setelah melakukan pembayaran pajak: \",\n",
        "gaji_budi_setelah_pajak)\n",
        "print(\"3. Jumlah uang yang akan Budi habiskan untuk membeli pakaian dan aksesoris: \", bayar_baju)\n",
        "print(\"4. Jumlah uang yang akan Budi habiskan untuk membeli alat tulis: \", bayar_pensil)\n",
        "print(\"5. Jumlah uang yang akan Budi sedekahkan: \", sedekah)\n",
        "print(\"6. Jumlah uang yang akan diterima anak yatim: \", sedekah_untuk_yatim)\n",
        "print(\"7. Jumlah uang yang akan diterima kaum dhuafa: \", sedekah_untuk_dhuafa)\n"
      ],
      "metadata": {
        "id": "mfWhbjTDK1-I"
      },
      "execution_count": null,
      "outputs": []
    }
  ],
  "metadata": {
    "colab": {
      "name": "Welcome To Colaboratory",
      "toc_visible": true,
      "provenance": []
    },
    "kernelspec": {
      "display_name": "Python 3",
      "name": "python3"
    }
  },
  "nbformat": 4,
  "nbformat_minor": 0
}